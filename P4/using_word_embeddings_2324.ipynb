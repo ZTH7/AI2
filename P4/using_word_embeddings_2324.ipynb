{
  "cells": [
    {
      "cell_type": "code",
      "execution_count": 1,
      "metadata": {
        "colab": {
          "base_uri": "https://localhost:8080/"
        },
        "id": "RVwv5hdwM0hW",
        "outputId": "635b018b-282b-4b64-ab93-4318ccae5200"
      },
      "outputs": [
        {
          "ename": "ModuleNotFoundError",
          "evalue": "No module named 'google.colab'",
          "output_type": "error",
          "traceback": [
            "\u001b[1;31m---------------------------------------------------------------------------\u001b[0m",
            "\u001b[1;31mModuleNotFoundError\u001b[0m                       Traceback (most recent call last)",
            "Cell \u001b[1;32mIn[1], line 1\u001b[0m\n\u001b[1;32m----> 1\u001b[0m \u001b[38;5;28;01mfrom\u001b[39;00m \u001b[38;5;21;01mgoogle\u001b[39;00m\u001b[38;5;21;01m.\u001b[39;00m\u001b[38;5;21;01mcolab\u001b[39;00m \u001b[38;5;28;01mimport\u001b[39;00m drive\n\u001b[0;32m      2\u001b[0m drive\u001b[38;5;241m.\u001b[39mmount(\u001b[38;5;124m'\u001b[39m\u001b[38;5;124m/content/drive\u001b[39m\u001b[38;5;124m'\u001b[39m)\n",
            "\u001b[1;31mModuleNotFoundError\u001b[0m: No module named 'google.colab'"
          ]
        }
      ],
      "source": [
        "from google.colab import drive\n",
        "drive.mount('/content/drive')"
      ]
    },
    {
      "cell_type": "code",
      "execution_count": null,
      "metadata": {
        "colab": {
          "base_uri": "https://localhost:8080/",
          "height": 423
        },
        "id": "XRlgg-amkZ2Z",
        "outputId": "f93bd637-a6c3-436d-8cca-c6ec459a2ab6"
      },
      "outputs": [
        {
          "data": {
            "application/vnd.google.colaboratory.intrinsic+json": {
              "summary": "{\n  \"name\": \"df\",\n  \"rows\": 1000,\n  \"fields\": [\n    {\n      \"column\": \"sentence\",\n      \"properties\": {\n        \"dtype\": \"string\",\n        \"num_unique_values\": 996,\n        \"samples\": [\n          \"They were excellent.\",\n          \"Your servers suck, wait, correction, our server Heimer sucked.\",\n          \"Will be back again!\"\n        ],\n        \"semantic_type\": \"\",\n        \"description\": \"\"\n      }\n    },\n    {\n      \"column\": \"sentiment\",\n      \"properties\": {\n        \"dtype\": \"number\",\n        \"std\": 0,\n        \"min\": 0,\n        \"max\": 1,\n        \"num_unique_values\": 2,\n        \"samples\": [\n          0,\n          1\n        ],\n        \"semantic_type\": \"\",\n        \"description\": \"\"\n      }\n    }\n  ]\n}",
              "type": "dataframe",
              "variable_name": "df"
            },
            "text/html": [
              "\n",
              "  <div id=\"df-8b870bb4-8ff9-4b5d-9da2-6e20b01e8223\" class=\"colab-df-container\">\n",
              "    <div>\n",
              "<style scoped>\n",
              "    .dataframe tbody tr th:only-of-type {\n",
              "        vertical-align: middle;\n",
              "    }\n",
              "\n",
              "    .dataframe tbody tr th {\n",
              "        vertical-align: top;\n",
              "    }\n",
              "\n",
              "    .dataframe thead th {\n",
              "        text-align: right;\n",
              "    }\n",
              "</style>\n",
              "<table border=\"1\" class=\"dataframe\">\n",
              "  <thead>\n",
              "    <tr style=\"text-align: right;\">\n",
              "      <th></th>\n",
              "      <th>sentence</th>\n",
              "      <th>sentiment</th>\n",
              "    </tr>\n",
              "  </thead>\n",
              "  <tbody>\n",
              "    <tr>\n",
              "      <th>0</th>\n",
              "      <td>Wow... Loved this place.</td>\n",
              "      <td>1</td>\n",
              "    </tr>\n",
              "    <tr>\n",
              "      <th>1</th>\n",
              "      <td>Crust is not good.</td>\n",
              "      <td>0</td>\n",
              "    </tr>\n",
              "    <tr>\n",
              "      <th>2</th>\n",
              "      <td>Not tasty and the texture was just nasty.</td>\n",
              "      <td>0</td>\n",
              "    </tr>\n",
              "    <tr>\n",
              "      <th>3</th>\n",
              "      <td>Stopped by during the late May bank holiday of...</td>\n",
              "      <td>1</td>\n",
              "    </tr>\n",
              "    <tr>\n",
              "      <th>4</th>\n",
              "      <td>The selection on the menu was great and so wer...</td>\n",
              "      <td>1</td>\n",
              "    </tr>\n",
              "    <tr>\n",
              "      <th>...</th>\n",
              "      <td>...</td>\n",
              "      <td>...</td>\n",
              "    </tr>\n",
              "    <tr>\n",
              "      <th>995</th>\n",
              "      <td>I think food should have flavor and texture an...</td>\n",
              "      <td>0</td>\n",
              "    </tr>\n",
              "    <tr>\n",
              "      <th>996</th>\n",
              "      <td>Appetite instantly gone.</td>\n",
              "      <td>0</td>\n",
              "    </tr>\n",
              "    <tr>\n",
              "      <th>997</th>\n",
              "      <td>Overall I was not impressed and would not go b...</td>\n",
              "      <td>0</td>\n",
              "    </tr>\n",
              "    <tr>\n",
              "      <th>998</th>\n",
              "      <td>The whole experience was underwhelming, and I ...</td>\n",
              "      <td>0</td>\n",
              "    </tr>\n",
              "    <tr>\n",
              "      <th>999</th>\n",
              "      <td>Then, as if I hadn't wasted enough of my life ...</td>\n",
              "      <td>0</td>\n",
              "    </tr>\n",
              "  </tbody>\n",
              "</table>\n",
              "<p>1000 rows × 2 columns</p>\n",
              "</div>\n",
              "    <div class=\"colab-df-buttons\">\n",
              "\n",
              "  <div class=\"colab-df-container\">\n",
              "    <button class=\"colab-df-convert\" onclick=\"convertToInteractive('df-8b870bb4-8ff9-4b5d-9da2-6e20b01e8223')\"\n",
              "            title=\"Convert this dataframe to an interactive table.\"\n",
              "            style=\"display:none;\">\n",
              "\n",
              "  <svg xmlns=\"http://www.w3.org/2000/svg\" height=\"24px\" viewBox=\"0 -960 960 960\">\n",
              "    <path d=\"M120-120v-720h720v720H120Zm60-500h600v-160H180v160Zm220 220h160v-160H400v160Zm0 220h160v-160H400v160ZM180-400h160v-160H180v160Zm440 0h160v-160H620v160ZM180-180h160v-160H180v160Zm440 0h160v-160H620v160Z\"/>\n",
              "  </svg>\n",
              "    </button>\n",
              "\n",
              "  <style>\n",
              "    .colab-df-container {\n",
              "      display:flex;\n",
              "      gap: 12px;\n",
              "    }\n",
              "\n",
              "    .colab-df-convert {\n",
              "      background-color: #E8F0FE;\n",
              "      border: none;\n",
              "      border-radius: 50%;\n",
              "      cursor: pointer;\n",
              "      display: none;\n",
              "      fill: #1967D2;\n",
              "      height: 32px;\n",
              "      padding: 0 0 0 0;\n",
              "      width: 32px;\n",
              "    }\n",
              "\n",
              "    .colab-df-convert:hover {\n",
              "      background-color: #E2EBFA;\n",
              "      box-shadow: 0px 1px 2px rgba(60, 64, 67, 0.3), 0px 1px 3px 1px rgba(60, 64, 67, 0.15);\n",
              "      fill: #174EA6;\n",
              "    }\n",
              "\n",
              "    .colab-df-buttons div {\n",
              "      margin-bottom: 4px;\n",
              "    }\n",
              "\n",
              "    [theme=dark] .colab-df-convert {\n",
              "      background-color: #3B4455;\n",
              "      fill: #D2E3FC;\n",
              "    }\n",
              "\n",
              "    [theme=dark] .colab-df-convert:hover {\n",
              "      background-color: #434B5C;\n",
              "      box-shadow: 0px 1px 3px 1px rgba(0, 0, 0, 0.15);\n",
              "      filter: drop-shadow(0px 1px 2px rgba(0, 0, 0, 0.3));\n",
              "      fill: #FFFFFF;\n",
              "    }\n",
              "  </style>\n",
              "\n",
              "    <script>\n",
              "      const buttonEl =\n",
              "        document.querySelector('#df-8b870bb4-8ff9-4b5d-9da2-6e20b01e8223 button.colab-df-convert');\n",
              "      buttonEl.style.display =\n",
              "        google.colab.kernel.accessAllowed ? 'block' : 'none';\n",
              "\n",
              "      async function convertToInteractive(key) {\n",
              "        const element = document.querySelector('#df-8b870bb4-8ff9-4b5d-9da2-6e20b01e8223');\n",
              "        const dataTable =\n",
              "          await google.colab.kernel.invokeFunction('convertToInteractive',\n",
              "                                                    [key], {});\n",
              "        if (!dataTable) return;\n",
              "\n",
              "        const docLinkHtml = 'Like what you see? Visit the ' +\n",
              "          '<a target=\"_blank\" href=https://colab.research.google.com/notebooks/data_table.ipynb>data table notebook</a>'\n",
              "          + ' to learn more about interactive tables.';\n",
              "        element.innerHTML = '';\n",
              "        dataTable['output_type'] = 'display_data';\n",
              "        await google.colab.output.renderOutput(dataTable, element);\n",
              "        const docLink = document.createElement('div');\n",
              "        docLink.innerHTML = docLinkHtml;\n",
              "        element.appendChild(docLink);\n",
              "      }\n",
              "    </script>\n",
              "  </div>\n",
              "\n",
              "\n",
              "<div id=\"df-3c5ecc02-6afb-48ba-b13c-48a9da8af9a2\">\n",
              "  <button class=\"colab-df-quickchart\" onclick=\"quickchart('df-3c5ecc02-6afb-48ba-b13c-48a9da8af9a2')\"\n",
              "            title=\"Suggest charts\"\n",
              "            style=\"display:none;\">\n",
              "\n",
              "<svg xmlns=\"http://www.w3.org/2000/svg\" height=\"24px\"viewBox=\"0 0 24 24\"\n",
              "     width=\"24px\">\n",
              "    <g>\n",
              "        <path d=\"M19 3H5c-1.1 0-2 .9-2 2v14c0 1.1.9 2 2 2h14c1.1 0 2-.9 2-2V5c0-1.1-.9-2-2-2zM9 17H7v-7h2v7zm4 0h-2V7h2v10zm4 0h-2v-4h2v4z\"/>\n",
              "    </g>\n",
              "</svg>\n",
              "  </button>\n",
              "\n",
              "<style>\n",
              "  .colab-df-quickchart {\n",
              "      --bg-color: #E8F0FE;\n",
              "      --fill-color: #1967D2;\n",
              "      --hover-bg-color: #E2EBFA;\n",
              "      --hover-fill-color: #174EA6;\n",
              "      --disabled-fill-color: #AAA;\n",
              "      --disabled-bg-color: #DDD;\n",
              "  }\n",
              "\n",
              "  [theme=dark] .colab-df-quickchart {\n",
              "      --bg-color: #3B4455;\n",
              "      --fill-color: #D2E3FC;\n",
              "      --hover-bg-color: #434B5C;\n",
              "      --hover-fill-color: #FFFFFF;\n",
              "      --disabled-bg-color: #3B4455;\n",
              "      --disabled-fill-color: #666;\n",
              "  }\n",
              "\n",
              "  .colab-df-quickchart {\n",
              "    background-color: var(--bg-color);\n",
              "    border: none;\n",
              "    border-radius: 50%;\n",
              "    cursor: pointer;\n",
              "    display: none;\n",
              "    fill: var(--fill-color);\n",
              "    height: 32px;\n",
              "    padding: 0;\n",
              "    width: 32px;\n",
              "  }\n",
              "\n",
              "  .colab-df-quickchart:hover {\n",
              "    background-color: var(--hover-bg-color);\n",
              "    box-shadow: 0 1px 2px rgba(60, 64, 67, 0.3), 0 1px 3px 1px rgba(60, 64, 67, 0.15);\n",
              "    fill: var(--button-hover-fill-color);\n",
              "  }\n",
              "\n",
              "  .colab-df-quickchart-complete:disabled,\n",
              "  .colab-df-quickchart-complete:disabled:hover {\n",
              "    background-color: var(--disabled-bg-color);\n",
              "    fill: var(--disabled-fill-color);\n",
              "    box-shadow: none;\n",
              "  }\n",
              "\n",
              "  .colab-df-spinner {\n",
              "    border: 2px solid var(--fill-color);\n",
              "    border-color: transparent;\n",
              "    border-bottom-color: var(--fill-color);\n",
              "    animation:\n",
              "      spin 1s steps(1) infinite;\n",
              "  }\n",
              "\n",
              "  @keyframes spin {\n",
              "    0% {\n",
              "      border-color: transparent;\n",
              "      border-bottom-color: var(--fill-color);\n",
              "      border-left-color: var(--fill-color);\n",
              "    }\n",
              "    20% {\n",
              "      border-color: transparent;\n",
              "      border-left-color: var(--fill-color);\n",
              "      border-top-color: var(--fill-color);\n",
              "    }\n",
              "    30% {\n",
              "      border-color: transparent;\n",
              "      border-left-color: var(--fill-color);\n",
              "      border-top-color: var(--fill-color);\n",
              "      border-right-color: var(--fill-color);\n",
              "    }\n",
              "    40% {\n",
              "      border-color: transparent;\n",
              "      border-right-color: var(--fill-color);\n",
              "      border-top-color: var(--fill-color);\n",
              "    }\n",
              "    60% {\n",
              "      border-color: transparent;\n",
              "      border-right-color: var(--fill-color);\n",
              "    }\n",
              "    80% {\n",
              "      border-color: transparent;\n",
              "      border-right-color: var(--fill-color);\n",
              "      border-bottom-color: var(--fill-color);\n",
              "    }\n",
              "    90% {\n",
              "      border-color: transparent;\n",
              "      border-bottom-color: var(--fill-color);\n",
              "    }\n",
              "  }\n",
              "</style>\n",
              "\n",
              "  <script>\n",
              "    async function quickchart(key) {\n",
              "      const quickchartButtonEl =\n",
              "        document.querySelector('#' + key + ' button');\n",
              "      quickchartButtonEl.disabled = true;  // To prevent multiple clicks.\n",
              "      quickchartButtonEl.classList.add('colab-df-spinner');\n",
              "      try {\n",
              "        const charts = await google.colab.kernel.invokeFunction(\n",
              "            'suggestCharts', [key], {});\n",
              "      } catch (error) {\n",
              "        console.error('Error during call to suggestCharts:', error);\n",
              "      }\n",
              "      quickchartButtonEl.classList.remove('colab-df-spinner');\n",
              "      quickchartButtonEl.classList.add('colab-df-quickchart-complete');\n",
              "    }\n",
              "    (() => {\n",
              "      let quickchartButtonEl =\n",
              "        document.querySelector('#df-3c5ecc02-6afb-48ba-b13c-48a9da8af9a2 button');\n",
              "      quickchartButtonEl.style.display =\n",
              "        google.colab.kernel.accessAllowed ? 'block' : 'none';\n",
              "    })();\n",
              "  </script>\n",
              "</div>\n",
              "    </div>\n",
              "  </div>\n"
            ],
            "text/plain": [
              "                                              sentence  sentiment\n",
              "0                             Wow... Loved this place.          1\n",
              "1                                   Crust is not good.          0\n",
              "2            Not tasty and the texture was just nasty.          0\n",
              "3    Stopped by during the late May bank holiday of...          1\n",
              "4    The selection on the menu was great and so wer...          1\n",
              "..                                                 ...        ...\n",
              "995  I think food should have flavor and texture an...          0\n",
              "996                           Appetite instantly gone.          0\n",
              "997  Overall I was not impressed and would not go b...          0\n",
              "998  The whole experience was underwhelming, and I ...          0\n",
              "999  Then, as if I hadn't wasted enough of my life ...          0\n",
              "\n",
              "[1000 rows x 2 columns]"
            ]
          },
          "execution_count": 4,
          "metadata": {},
          "output_type": "execute_result"
        }
      ],
      "source": [
        "# Vamos a ver un ejemplo con un conjunto de opiniones (positivas o negativas) de restaurantes del recomendador Yelp\n",
        "\n",
        "import pandas as pd\n",
        "\n",
        "yelp_file = '/content/drive/MyDrive/Colab Notebooks/IA2/yelp_labelled.txt'\n",
        "\n",
        "df=pd.read_csv(yelp_file, delimiter='\\t', names=['sentence', 'sentiment'])\n",
        "\n",
        "df"
      ]
    },
    {
      "cell_type": "markdown",
      "metadata": {
        "id": "8WM2LCP-5HXf"
      },
      "source": [
        "# Usando word embeddings\n",
        "\n",
        "Este notebook está basado en el notebook del segundo ejemplo del Capítulo 6, Sección 1 de [Deep Learning with Python](https://www.manning.com/books/deep-learning-with-python?a_aid=keras&a_bid=76564dff).\n",
        "\n",
        "[Aquí hay una versión gratuita del capítulo](https://freecontent.manning.com/deep-learning-for-text/)\n",
        "\n",
        "---\n"
      ]
    },
    {
      "cell_type": "markdown",
      "metadata": {
        "id": "NbZkDrBnx9Ft"
      },
      "source": [
        "Las word-embeddings son representaciones de palabras en espacios de varias dimensiones en los que cada palabra del diccionario es representada mediante un vector de varias dimensiones (decenas o centenas) que permiten capturar su relación con otras palabras\n",
        "\n",
        "Existen distintas técnicas para estimar word-embeddings a partir de un corpus de documentos y fijando el número de dimensiones que queremos usar.\n",
        "\n",
        "El resultado es una matriz de tantas columnas como palabras tenga el diccionario y tantas filas como dimensiones hayamos determinado.\n"
      ]
    },
    {
      "cell_type": "markdown",
      "metadata": {
        "id": "4YAhPMNh5HXj"
      },
      "source": [
        "There are two ways to obtain word embeddings:\n",
        "\n",
        "* Learn word embeddings jointly with the main task you care about (e.g. document classification or sentiment prediction).\n",
        "In this setup, you would start with random word vectors, then learn your word vectors in the same way that you learn the weights of a neural network.\n",
        "* Load into your model word embeddings that were pre-computed using a different machine learning task than the one you are trying to solve.\n",
        "These are called \"pre-trained word embeddings\".\n",
        "\n",
        "Let's take a look at both."
      ]
    },
    {
      "cell_type": "markdown",
      "metadata": {
        "id": "Y_tTqd1k5HXk"
      },
      "source": [
        "## Learning word embeddings with the `Embedding` layer\n",
        "\n",
        "\n",
        "Is there some \"ideal\" word embedding space that would perfectly map human language and could be used for any natural language processing\n",
        "task? Possibly, but in any case, we have yet to compute anything of the sort. Also, there isn't such a thing as \"human language\", there are\n",
        "many different languages and they are not isomorphic, as a language is the reflection of a specific culture and a specific context. But more\n",
        "pragmatically, what makes a good word embedding space depends heavily on your task: the perfect word embedding space for an\n",
        "English-language movie review sentiment analysis model may look very different from the perfect embedding space for an English-language\n",
        "legal document classification model, because the importance of certain semantic relationships varies from task to task.\n",
        "\n",
        "It is thus reasonable to __learn__ a new embedding space with every new task. Thankfully, backpropagation makes this really easy, and Keras makes it\n",
        "even easier. It's just about learning the weights of a layer: the `Embedding` layer."
      ]
    },
    {
      "cell_type": "markdown",
      "metadata": {
        "id": "YTAx1GYl5HXm"
      },
      "source": [
        "\n",
        "The `Embedding` layer is best understood as a dictionary mapping integer indices (which stand for specific words) to dense vectors. It takes\n",
        "as input integers, it looks up these integers into an internal dictionary, and it returns the associated vectors. It's effectively a dictionary lookup."
      ]
    },
    {
      "cell_type": "markdown",
      "metadata": {
        "id": "ijS5gE_Z5HXm"
      },
      "source": [
        "\n",
        "The `Embedding` layer takes as input a 2D tensor of integers, of shape `(samples, sequence_length)`, where each entry is a sequence of\n",
        "integers. It can embed sequences of variable lengths, so for instance we could feed into our embedding layer above batches that could have\n",
        "shapes `(32, 10)` (batch of 32 sequences of length 10) or `(64, 15)` (batch of 64 sequences of length 15). All sequences in a batch must\n",
        "have the same length, though (since we need to pack them into a single tensor), so sequences that are shorter than others should be padded\n",
        "with zeros, and sequences that are longer should be truncated.\n",
        "\n",
        "When you instantiate an `Embedding` layer, its weights (its internal dictionary of token vectors) are initially random, just like with any\n",
        "other layer. During training, these word vectors will be gradually adjusted via backpropagation, structuring the space into something that the\n",
        "downstream model can exploit. Once fully trained, your embedding space will show a lot of structure -- a kind of structure specialized for\n",
        "the specific problem you were training your model for.\n"
      ]
    },
    {
      "cell_type": "code",
      "execution_count": 2,
      "metadata": {
        "colab": {
          "base_uri": "https://localhost:8080/"
        },
        "id": "jWi6XDaxBAom",
        "outputId": "3fca5d9e-0023-4e53-9e08-e1a88eb7e2d8"
      },
      "outputs": [
        {
          "ename": "ModuleNotFoundError",
          "evalue": "No module named 'keras.preprocessing.text'",
          "output_type": "error",
          "traceback": [
            "\u001b[1;31m---------------------------------------------------------------------------\u001b[0m",
            "\u001b[1;31mModuleNotFoundError\u001b[0m                       Traceback (most recent call last)",
            "Cell \u001b[1;32mIn[2], line 1\u001b[0m\n\u001b[1;32m----> 1\u001b[0m \u001b[38;5;28;01mfrom\u001b[39;00m \u001b[38;5;21;01mkeras\u001b[39;00m\u001b[38;5;21;01m.\u001b[39;00m\u001b[38;5;21;01mpreprocessing\u001b[39;00m\u001b[38;5;21;01m.\u001b[39;00m\u001b[38;5;21;01mtext\u001b[39;00m \u001b[38;5;28;01mimport\u001b[39;00m Tokenizer\n\u001b[0;32m      2\u001b[0m \u001b[38;5;28;01mfrom\u001b[39;00m \u001b[38;5;21;01mkeras\u001b[39;00m\u001b[38;5;21;01m.\u001b[39;00m\u001b[38;5;21;01mutils\u001b[39;00m \u001b[38;5;28;01mimport\u001b[39;00m pad_sequences\n\u001b[0;32m      4\u001b[0m max_words \u001b[38;5;241m=\u001b[39m \u001b[38;5;241m1500\u001b[39m\n",
            "\u001b[1;31mModuleNotFoundError\u001b[0m: No module named 'keras.preprocessing.text'"
          ]
        }
      ],
      "source": [
        "from keras.preprocessing.text import Tokenizer\n",
        "from keras.utils import pad_sequences\n",
        "\n",
        "max_words = 1500\n",
        "max_comment_length = 20\n",
        "\n",
        "tokenizer = Tokenizer(num_words=max_words)\n",
        "tokenizer.fit_on_texts(df.sentence)\n",
        "\n",
        "sequences = tokenizer.texts_to_sequences(df.sentence)\n",
        "\n",
        "word_index = tokenizer.word_index\n",
        "print('Found %s unique tokens.' % len(word_index))\n",
        "max_words = len(word_index)\n",
        "\n",
        "data = pad_sequences(sequences, maxlen=max_comment_length)"
      ]
    },
    {
      "cell_type": "code",
      "execution_count": null,
      "metadata": {
        "colab": {
          "base_uri": "https://localhost:8080/"
        },
        "id": "ccvxgdjZ0NwO",
        "outputId": "d4e0bd1d-98bc-48e2-dd11-b006f1b62f25"
      },
      "outputs": [
        {
          "name": "stdout",
          "output_type": "stream",
          "text": [
            "The selection on the menu was great and so were the prices.\n",
            "[  0   0   0   0   0   0   0   0   1 166  35   1 109   4  22   2  26  27\n",
            "   1 167]\n",
            "1\n"
          ]
        }
      ],
      "source": [
        "print(df.sentence[4])\n",
        "print(data[4])\n",
        "print(df.sentiment[4])"
      ]
    },
    {
      "cell_type": "code",
      "execution_count": null,
      "metadata": {
        "colab": {
          "base_uri": "https://localhost:8080/"
        },
        "id": "vHUP_sBf9IQt",
        "outputId": "6a7773e4-aa30-4787-a10e-67c0b2b92866"
      },
      "outputs": [
        {
          "name": "stdout",
          "output_type": "stream",
          "text": [
            "Training texts: 800\n",
            "Test texts: 200\n"
          ]
        }
      ],
      "source": [
        "from sklearn.model_selection import train_test_split\n",
        "\n",
        "#valor de random state\n",
        "rs=333\n",
        "\n",
        "d=df.values\n",
        "\n",
        "x_train, x_test, y_train, y_test = train_test_split(data, df.sentiment, test_size=0.20, random_state=rs, stratify = df.sentiment)\n",
        "\n",
        "print(\"Training texts:\", len(y_train))\n",
        "print(\"Test texts:\", len(y_test))"
      ]
    },
    {
      "cell_type": "code",
      "execution_count": null,
      "metadata": {
        "id": "6YL5tXWuu1v6"
      },
      "outputs": [],
      "source": [
        "# Fijamos el tamaño de los embedding a 50 dimensiones\n",
        "\n",
        "embedding_dim = 50"
      ]
    },
    {
      "cell_type": "code",
      "execution_count": null,
      "metadata": {
        "colab": {
          "base_uri": "https://localhost:8080/"
        },
        "id": "2P1FmfpU5HXn",
        "outputId": "57d45c1d-33b1-43e9-89ff-6a494bf780d8"
      },
      "outputs": [
        {
          "name": "stdout",
          "output_type": "stream",
          "text": [
            "Model: \"sequential\"\n",
            "_________________________________________________________________\n",
            " Layer (type)                Output Shape              Param #   \n",
            "=================================================================\n",
            " embedding (Embedding)       (None, 20, 50)            103550    \n",
            "                                                                 \n",
            " flatten (Flatten)           (None, 1000)              0         \n",
            "                                                                 \n",
            " dense (Dense)               (None, 1)                 1001      \n",
            "                                                                 \n",
            "=================================================================\n",
            "Total params: 104551 (408.40 KB)\n",
            "Trainable params: 104551 (408.40 KB)\n",
            "Non-trainable params: 0 (0.00 Byte)\n",
            "_________________________________________________________________\n",
            "Epoch 1/20\n",
            "25/25 [==============================] - 1s 15ms/step - loss: 0.6930 - accuracy: 0.5150 - val_loss: 0.6893 - val_accuracy: 0.5400\n",
            "Epoch 2/20\n",
            "25/25 [==============================] - 0s 5ms/step - loss: 0.6706 - accuracy: 0.6550 - val_loss: 0.6864 - val_accuracy: 0.5550\n",
            "Epoch 3/20\n",
            "25/25 [==============================] - 0s 5ms/step - loss: 0.6426 - accuracy: 0.7788 - val_loss: 0.6815 - val_accuracy: 0.6250\n",
            "Epoch 4/20\n",
            "25/25 [==============================] - 0s 6ms/step - loss: 0.6011 - accuracy: 0.9050 - val_loss: 0.6734 - val_accuracy: 0.6550\n",
            "Epoch 5/20\n",
            "25/25 [==============================] - 0s 5ms/step - loss: 0.5425 - accuracy: 0.9525 - val_loss: 0.6605 - val_accuracy: 0.6650\n",
            "Epoch 6/20\n",
            "25/25 [==============================] - 0s 5ms/step - loss: 0.4707 - accuracy: 0.9688 - val_loss: 0.6458 - val_accuracy: 0.6850\n",
            "Epoch 7/20\n",
            "25/25 [==============================] - 0s 5ms/step - loss: 0.3954 - accuracy: 0.9737 - val_loss: 0.6322 - val_accuracy: 0.6650\n",
            "Epoch 8/20\n",
            "25/25 [==============================] - 0s 5ms/step - loss: 0.3253 - accuracy: 0.9787 - val_loss: 0.6197 - val_accuracy: 0.6600\n",
            "Epoch 9/20\n",
            "25/25 [==============================] - 0s 6ms/step - loss: 0.2651 - accuracy: 0.9800 - val_loss: 0.6085 - val_accuracy: 0.6750\n",
            "Epoch 10/20\n",
            "25/25 [==============================] - 0s 5ms/step - loss: 0.2159 - accuracy: 0.9850 - val_loss: 0.6017 - val_accuracy: 0.6550\n",
            "Epoch 11/20\n",
            "25/25 [==============================] - 0s 5ms/step - loss: 0.1777 - accuracy: 0.9912 - val_loss: 0.5966 - val_accuracy: 0.6700\n",
            "Epoch 12/20\n",
            "25/25 [==============================] - 0s 6ms/step - loss: 0.1467 - accuracy: 0.9925 - val_loss: 0.5920 - val_accuracy: 0.6650\n",
            "Epoch 13/20\n",
            "25/25 [==============================] - 0s 8ms/step - loss: 0.1227 - accuracy: 0.9950 - val_loss: 0.5888 - val_accuracy: 0.6850\n",
            "Epoch 14/20\n",
            "25/25 [==============================] - 0s 6ms/step - loss: 0.1036 - accuracy: 0.9962 - val_loss: 0.5878 - val_accuracy: 0.6950\n",
            "Epoch 15/20\n",
            "25/25 [==============================] - 0s 7ms/step - loss: 0.0878 - accuracy: 0.9987 - val_loss: 0.5893 - val_accuracy: 0.7000\n",
            "Epoch 16/20\n",
            "25/25 [==============================] - 0s 6ms/step - loss: 0.0755 - accuracy: 0.9987 - val_loss: 0.5894 - val_accuracy: 0.6900\n",
            "Epoch 17/20\n",
            "25/25 [==============================] - 0s 6ms/step - loss: 0.0653 - accuracy: 1.0000 - val_loss: 0.5905 - val_accuracy: 0.6900\n",
            "Epoch 18/20\n",
            "25/25 [==============================] - 0s 5ms/step - loss: 0.0569 - accuracy: 1.0000 - val_loss: 0.5921 - val_accuracy: 0.6900\n",
            "Epoch 19/20\n",
            "25/25 [==============================] - 0s 6ms/step - loss: 0.0501 - accuracy: 1.0000 - val_loss: 0.5941 - val_accuracy: 0.6850\n",
            "Epoch 20/20\n",
            "25/25 [==============================] - 0s 5ms/step - loss: 0.0443 - accuracy: 1.0000 - val_loss: 0.5962 - val_accuracy: 0.7000\n",
            "7/7 [==============================] - 0s 3ms/step - loss: 0.5962 - accuracy: 0.7000\n",
            "Accuracy: 70.00%\n"
          ]
        }
      ],
      "source": [
        "# MODELO 1. SIN EMBEDDINGS PRE-ENTRENADOS\n",
        "\n",
        "from keras.models import Sequential\n",
        "from keras.layers import Flatten, Dense, Embedding\n",
        "\n",
        "model1 = Sequential()\n",
        "# We specify the maximum input length to our Embedding layer\n",
        "# so we can later flatten the embedded inputs\n",
        "\n",
        "\n",
        "model1.add(Embedding(max_words, embedding_dim, input_length=max_comment_length))\n",
        "# After the Embedding layer, our activations have shape `(max_words, max_comment_length, embedding_dim)`.\n",
        "\n",
        "# We flatten the 3D tensor of embeddings into a 2D tensor of shape `(max_words, max_comment_length * embedding_dim)`\n",
        "\n",
        "model1.add(Flatten())\n",
        "\n",
        "# We add the classifier on top\n",
        "model1.add(Dense(1, activation='sigmoid'))\n",
        "\n",
        "model1.compile(optimizer='adam', loss='binary_crossentropy', metrics=['accuracy'])\n",
        "model1.summary()\n",
        "\n",
        "history = model1.fit(x_train, y_train,\n",
        "                    epochs=20,\n",
        "                    batch_size=32,\n",
        "                    validation_data=(x_test, y_test))\n",
        "\n",
        "score1 = model1.evaluate(x_test, y_test)\n",
        "\n",
        "print(\"Accuracy: %.2f%%\" % (score1[1]*100))"
      ]
    },
    {
      "cell_type": "markdown",
      "metadata": {
        "id": "ghMCZRVB5HXo"
      },
      "source": [
        "Utilizando una capa de embedding directamente obtenemos un 69%."
      ]
    },
    {
      "cell_type": "markdown",
      "metadata": {
        "id": "1z0t5kVY5HXp"
      },
      "source": [
        "## Using pre-trained word embeddings\n",
        "\n",
        "\n",
        "Sometimes, you have so little training data available that could never use your data alone to learn an appropriate task-specific embedding\n",
        "of your vocabulary. What to do then?\n",
        "\n",
        "Instead of learning word embeddings jointly with the problem you want to solve, you could be loading embedding vectors from a pre-computed\n",
        "embedding space known to be highly structured and to exhibit useful properties -- that captures generic aspects of language structure.\n",
        "\n",
        "Such word embeddings are generally computed using word occurrence statistics (observations about what words co-occur in sentences or\n",
        "documents), using a variety of techniques, some involving neural networks, others not. The idea of a dense, low-dimensional embedding space\n",
        "for words, computed in an unsupervised way, was initially explored by Bengio et al. in the early 2000s, but it only started really taking\n",
        "off in research and industry applications after the release of one of the most famous and successful word embedding scheme: the Word2Vec\n",
        "algorithm, developed by Mikolov at Google in 2013. Word2Vec dimensions capture specific semantic properties, e.g. gender.\n",
        "\n",
        "There are various pre-computed databases of word embeddings that can download and start using in a Keras `Embedding` layer. Word2Vec is one\n",
        "of them. Another popular one is called \"GloVe\", developed by Stanford researchers in 2014. It stands for \"Global Vectors for Word\n",
        "Representation\", and it is an embedding technique based on factorizing a matrix of word co-occurrence statistics. Its developers have made\n",
        "available pre-computed embeddings for millions of English tokens, obtained from Wikipedia data or from Common Crawl data.\n",
        "\n",
        "Let's take a look at how you can get started using GloVe embeddings in a Keras model. The same method will of course be valid for Word2Vec\n",
        "embeddings or any other word embedding database that you can download."
      ]
    },
    {
      "cell_type": "markdown",
      "metadata": {
        "id": "MzL5J7565HXr"
      },
      "source": [
        "### Download the GloVe word embeddings\n",
        "\n",
        "\n",
        "Head to `https://nlp.stanford.edu/projects/glove/` (where you can learn more about the GloVe algorithm), and download the pre-computed\n",
        "embeddings from 2014 English Wikipedia + Gigaword 5. There are several word embedding files. We will use the small word embedding with 50 dimensions (glove.6B.50d)."
      ]
    },
    {
      "cell_type": "markdown",
      "metadata": {
        "id": "03QL2jZv5HXr"
      },
      "source": [
        "### Pre-process the embeddings\n",
        "\n",
        "\n",
        "Let's parse the un-zipped file (it's a `txt` file) to build an index mapping words (as strings) to their vector representation (as number\n",
        "vectors)."
      ]
    },
    {
      "cell_type": "code",
      "execution_count": null,
      "metadata": {
        "colab": {
          "base_uri": "https://localhost:8080/"
        },
        "id": "fEZv4hve5HXr",
        "outputId": "974a1df6-1b12-4937-8717-6a6eec38a808"
      },
      "outputs": [
        {
          "name": "stdout",
          "output_type": "stream",
          "text": [
            "Found 400000 word vectors.\n"
          ]
        }
      ],
      "source": [
        "import os\n",
        "import numpy as np\n",
        "\n",
        "glove_dir = '/content/drive/MyDrive/Colab Notebooks/IA2'\n",
        "\n",
        "embeddings_index = {}\n",
        "f = open(os.path.join('./', 'glove.6B.50d.txt'))\n",
        "for line in f:\n",
        "    values = line.split()\n",
        "    word = values[0]\n",
        "    coefs = np.asarray(values[1:], dtype='float32')\n",
        "    embeddings_index[word] = coefs\n",
        "f.close()\n",
        "\n",
        "print('Found %s word vectors.' % len(embeddings_index))"
      ]
    },
    {
      "cell_type": "markdown",
      "metadata": {
        "id": "vjPFiOfQ5HXr"
      },
      "source": [
        "\n",
        "Now let's build an embedding matrix that we will be able to load into an `Embedding` layer. It must be a matrix of shape `(max_words,\n",
        "embedding_dim)`, where each entry `i` contains the `embedding_dim`-dimensional vector for the word of index `i` in our reference word index\n",
        "(built during tokenization). Note that the index `0` is not supposed to stand for any word or token -- it's a placeholder."
      ]
    },
    {
      "cell_type": "code",
      "execution_count": null,
      "metadata": {
        "collapsed": true,
        "id": "m5Zs0sIU5HXs"
      },
      "outputs": [
        {
          "ename": "NameError",
          "evalue": "name 'word_index' is not defined",
          "output_type": "error",
          "traceback": [
            "\u001b[1;31m---------------------------------------------------------------------------\u001b[0m",
            "\u001b[1;31mNameError\u001b[0m                                 Traceback (most recent call last)",
            "Cell \u001b[1;32mIn[4], line 5\u001b[0m\n\u001b[0;32m      2\u001b[0m max_words \u001b[38;5;241m=\u001b[39m \u001b[38;5;241m1500\u001b[39m\n\u001b[0;32m      4\u001b[0m embedding_matrix \u001b[38;5;241m=\u001b[39m np\u001b[38;5;241m.\u001b[39mzeros((max_words, embedding_dim))\n\u001b[1;32m----> 5\u001b[0m \u001b[38;5;28;01mfor\u001b[39;00m word, i \u001b[38;5;129;01min\u001b[39;00m word_index\u001b[38;5;241m.\u001b[39mitems():\n\u001b[0;32m      6\u001b[0m     embedding_vector \u001b[38;5;241m=\u001b[39m embeddings_index\u001b[38;5;241m.\u001b[39mget(word)\n\u001b[0;32m      7\u001b[0m     \u001b[38;5;28;01mif\u001b[39;00m i \u001b[38;5;241m<\u001b[39m max_words:\n",
            "\u001b[1;31mNameError\u001b[0m: name 'word_index' is not defined"
          ]
        }
      ],
      "source": [
        "embedding_dim = 50\n",
        "max_words = 1500\n",
        "\n",
        "embedding_matrix = np.zeros((max_words, embedding_dim))\n",
        "for word, i in word_index.items():\n",
        "    embedding_vector = embeddings_index.get(word)\n",
        "    if i < max_words:\n",
        "        if embedding_vector is not None:\n",
        "            # Words not found in embedding index will be all-zeros.\n",
        "            embedding_matrix[i] = embedding_vector\n",
        "\n",
        "embedding_matrix"
      ]
    },
    {
      "cell_type": "markdown",
      "metadata": {
        "id": "Zqvm9DNK5HXs"
      },
      "source": [
        "### Define a model\n",
        "\n",
        "We will be using the same model architecture as before:"
      ]
    },
    {
      "cell_type": "code",
      "execution_count": null,
      "metadata": {
        "colab": {
          "base_uri": "https://localhost:8080/"
        },
        "id": "QnP6jLBR5HXs",
        "outputId": "b5952e41-cf01-4ca7-eeaf-5e13ad6d50d1"
      },
      "outputs": [
        {
          "name": "stdout",
          "output_type": "stream",
          "text": [
            "Model: \"sequential_1\"\n",
            "_________________________________________________________________\n",
            " Layer (type)                Output Shape              Param #   \n",
            "=================================================================\n",
            " embedding_1 (Embedding)     (None, 20, 50)            103550    \n",
            "                                                                 \n",
            " flatten_1 (Flatten)         (None, 1000)              0         \n",
            "                                                                 \n",
            " dense_1 (Dense)             (None, 1)                 1001      \n",
            "                                                                 \n",
            "=================================================================\n",
            "Total params: 104551 (408.40 KB)\n",
            "Trainable params: 104551 (408.40 KB)\n",
            "Non-trainable params: 0 (0.00 Byte)\n",
            "_________________________________________________________________\n"
          ]
        }
      ],
      "source": [
        "# MODELO 2. EMBEDDINGS PRE-ENTRENADOS CONGELADOS\n",
        "\n",
        "from keras.models import Sequential\n",
        "from keras.layers import Embedding, Flatten, Dense\n",
        "\n",
        "model2 = Sequential()\n",
        "model2.add(Embedding(max_words, embedding_dim, input_length=max_comment_length))\n",
        "model2.add(Flatten())\n",
        "model2.add(Dense(1, activation='sigmoid'))\n",
        "model2.summary()"
      ]
    },
    {
      "cell_type": "markdown",
      "metadata": {
        "id": "Aq9tCKoe5HXs"
      },
      "source": [
        "### Load the GloVe embeddings in the model\n",
        "\n",
        "\n",
        "The `Embedding` layer has a single weight matrix: a 2D float matrix where each entry `i` is the word vector meant to be associated with\n",
        "index `i`. Simple enough. Let's just load the GloVe matrix we prepared into our `Embedding` layer, the first layer in our model:"
      ]
    },
    {
      "cell_type": "code",
      "execution_count": null,
      "metadata": {
        "collapsed": true,
        "id": "x38tZ6Fn5HXs"
      },
      "outputs": [],
      "source": [
        "model2.layers[0].set_weights([embedding_matrix])\n",
        "model2.layers[0].trainable = False"
      ]
    },
    {
      "cell_type": "markdown",
      "metadata": {
        "id": "6KHAcFgG5HXt"
      },
      "source": [
        "\n",
        "Additionally, we freeze the embedding layer (we set its `trainable` attribute to `False`), then one part of a model is pre-trained (like our `Embedding` layer), and parts are randomly initialized (like our classifier), the pre-trained parts should not be updated during training to avoid forgetting what they already know."
      ]
    },
    {
      "cell_type": "markdown",
      "metadata": {
        "id": "HcWGxxEU5HXt"
      },
      "source": [
        "### Train and evaluate\n",
        "\n",
        "Let's compile our model and train it:"
      ]
    },
    {
      "cell_type": "code",
      "execution_count": null,
      "metadata": {
        "colab": {
          "base_uri": "https://localhost:8080/"
        },
        "id": "EMK_DYeI5HXt",
        "outputId": "d9756ddd-ac7b-4e11-ca69-2b7f580cb874"
      },
      "outputs": [
        {
          "name": "stdout",
          "output_type": "stream",
          "text": [
            "Epoch 1/20\n",
            "25/25 [==============================] - 1s 13ms/step - loss: 0.7239 - accuracy: 0.5250 - val_loss: 0.6925 - val_accuracy: 0.5750\n",
            "Epoch 2/20\n",
            "25/25 [==============================] - 0s 5ms/step - loss: 0.6596 - accuracy: 0.6000 - val_loss: 0.6696 - val_accuracy: 0.6000\n",
            "Epoch 3/20\n",
            "25/25 [==============================] - 0s 5ms/step - loss: 0.6193 - accuracy: 0.6687 - val_loss: 0.6516 - val_accuracy: 0.6050\n",
            "Epoch 4/20\n",
            "25/25 [==============================] - 0s 4ms/step - loss: 0.5886 - accuracy: 0.7013 - val_loss: 0.6432 - val_accuracy: 0.6400\n",
            "Epoch 5/20\n",
            "25/25 [==============================] - 0s 5ms/step - loss: 0.5628 - accuracy: 0.7262 - val_loss: 0.6347 - val_accuracy: 0.6650\n",
            "Epoch 6/20\n",
            "25/25 [==============================] - 0s 5ms/step - loss: 0.5405 - accuracy: 0.7525 - val_loss: 0.6254 - val_accuracy: 0.6500\n",
            "Epoch 7/20\n",
            "25/25 [==============================] - 0s 5ms/step - loss: 0.5230 - accuracy: 0.7600 - val_loss: 0.6206 - val_accuracy: 0.6700\n",
            "Epoch 8/20\n",
            "25/25 [==============================] - 0s 4ms/step - loss: 0.5071 - accuracy: 0.7725 - val_loss: 0.6173 - val_accuracy: 0.6650\n",
            "Epoch 9/20\n",
            "25/25 [==============================] - 0s 5ms/step - loss: 0.4929 - accuracy: 0.7887 - val_loss: 0.6129 - val_accuracy: 0.6800\n",
            "Epoch 10/20\n",
            "25/25 [==============================] - 0s 5ms/step - loss: 0.4797 - accuracy: 0.7925 - val_loss: 0.6095 - val_accuracy: 0.6900\n",
            "Epoch 11/20\n",
            "25/25 [==============================] - 0s 4ms/step - loss: 0.4672 - accuracy: 0.8125 - val_loss: 0.6074 - val_accuracy: 0.6900\n",
            "Epoch 12/20\n",
            "25/25 [==============================] - 0s 4ms/step - loss: 0.4568 - accuracy: 0.8213 - val_loss: 0.6044 - val_accuracy: 0.6900\n",
            "Epoch 13/20\n",
            "25/25 [==============================] - 0s 4ms/step - loss: 0.4466 - accuracy: 0.8213 - val_loss: 0.6017 - val_accuracy: 0.7050\n",
            "Epoch 14/20\n",
            "25/25 [==============================] - 0s 4ms/step - loss: 0.4372 - accuracy: 0.8363 - val_loss: 0.5998 - val_accuracy: 0.7050\n",
            "Epoch 15/20\n",
            "25/25 [==============================] - 0s 3ms/step - loss: 0.4300 - accuracy: 0.8413 - val_loss: 0.6000 - val_accuracy: 0.7000\n",
            "Epoch 16/20\n",
            "25/25 [==============================] - 0s 3ms/step - loss: 0.4203 - accuracy: 0.8475 - val_loss: 0.5992 - val_accuracy: 0.7150\n",
            "Epoch 17/20\n",
            "25/25 [==============================] - 0s 5ms/step - loss: 0.4127 - accuracy: 0.8487 - val_loss: 0.5985 - val_accuracy: 0.7050\n",
            "Epoch 18/20\n",
            "25/25 [==============================] - 0s 3ms/step - loss: 0.4061 - accuracy: 0.8562 - val_loss: 0.5999 - val_accuracy: 0.6900\n",
            "Epoch 19/20\n",
            "25/25 [==============================] - 0s 4ms/step - loss: 0.4013 - accuracy: 0.8525 - val_loss: 0.5969 - val_accuracy: 0.7150\n",
            "Epoch 20/20\n",
            "25/25 [==============================] - 0s 5ms/step - loss: 0.3920 - accuracy: 0.8662 - val_loss: 0.5963 - val_accuracy: 0.7100\n",
            "7/7 [==============================] - 0s 3ms/step - loss: 0.5963 - accuracy: 0.7100\n"
          ]
        }
      ],
      "source": [
        "model2.compile(optimizer='adam',\n",
        "              loss='binary_crossentropy',\n",
        "              metrics=['accuracy'])\n",
        "\n",
        "history = model2.fit(x_train, y_train,\n",
        "                    epochs=20,\n",
        "                    batch_size=32,\n",
        "                    validation_data=(x_test, y_test))\n",
        "\n",
        "score2 = model2.evaluate(x_test, y_test)"
      ]
    },
    {
      "cell_type": "markdown",
      "metadata": {
        "id": "03mPNZ2j5HXu"
      },
      "source": [
        "\n",
        "We obtain 70% accuracy with the pre-trained model. It's a better result because we don't have too much training data.\n"
      ]
    },
    {
      "cell_type": "markdown",
      "metadata": {
        "id": "vIUu9Xed9qXE"
      },
      "source": [
        "\n",
        "We can also try to train the same model without freezing the embedding layer. In that case, we would be adapting our word embedding learning a classification task.\n",
        "\n",
        "Let's try it:"
      ]
    },
    {
      "cell_type": "code",
      "execution_count": null,
      "metadata": {
        "colab": {
          "base_uri": "https://localhost:8080/"
        },
        "id": "QtegIcSE5HXu",
        "outputId": "7c2b79a2-0511-470e-ddca-3754f874d704"
      },
      "outputs": [
        {
          "name": "stdout",
          "output_type": "stream",
          "text": [
            "Model: \"sequential_2\"\n",
            "_________________________________________________________________\n",
            " Layer (type)                Output Shape              Param #   \n",
            "=================================================================\n",
            " embedding_2 (Embedding)     (None, 20, 50)            103550    \n",
            "                                                                 \n",
            " flatten_2 (Flatten)         (None, 1000)              0         \n",
            "                                                                 \n",
            " dense_2 (Dense)             (None, 1)                 1001      \n",
            "                                                                 \n",
            "=================================================================\n",
            "Total params: 104551 (408.40 KB)\n",
            "Trainable params: 104551 (408.40 KB)\n",
            "Non-trainable params: 0 (0.00 Byte)\n",
            "_________________________________________________________________\n",
            "Epoch 1/20\n",
            "25/25 [==============================] - 1s 13ms/step - loss: 0.7162 - accuracy: 0.5500 - val_loss: 0.7171 - val_accuracy: 0.5550\n",
            "Epoch 2/20\n",
            "25/25 [==============================] - 0s 5ms/step - loss: 0.6322 - accuracy: 0.6587 - val_loss: 0.6899 - val_accuracy: 0.6300\n",
            "Epoch 3/20\n",
            "25/25 [==============================] - 0s 5ms/step - loss: 0.5805 - accuracy: 0.7337 - val_loss: 0.6753 - val_accuracy: 0.6150\n",
            "Epoch 4/20\n",
            "25/25 [==============================] - 0s 5ms/step - loss: 0.5397 - accuracy: 0.7775 - val_loss: 0.6622 - val_accuracy: 0.6400\n",
            "Epoch 5/20\n",
            "25/25 [==============================] - 0s 5ms/step - loss: 0.5029 - accuracy: 0.7975 - val_loss: 0.6504 - val_accuracy: 0.6400\n",
            "Epoch 6/20\n",
            "25/25 [==============================] - 0s 6ms/step - loss: 0.4697 - accuracy: 0.8213 - val_loss: 0.6427 - val_accuracy: 0.6200\n",
            "Epoch 7/20\n",
            "25/25 [==============================] - 0s 5ms/step - loss: 0.4369 - accuracy: 0.8450 - val_loss: 0.6320 - val_accuracy: 0.6400\n",
            "Epoch 8/20\n",
            "25/25 [==============================] - 0s 5ms/step - loss: 0.4071 - accuracy: 0.8725 - val_loss: 0.6243 - val_accuracy: 0.6600\n",
            "Epoch 9/20\n",
            "25/25 [==============================] - 0s 5ms/step - loss: 0.3785 - accuracy: 0.8900 - val_loss: 0.6151 - val_accuracy: 0.6650\n",
            "Epoch 10/20\n",
            "25/25 [==============================] - 0s 5ms/step - loss: 0.3514 - accuracy: 0.9112 - val_loss: 0.6097 - val_accuracy: 0.6800\n",
            "Epoch 11/20\n",
            "25/25 [==============================] - 0s 5ms/step - loss: 0.3258 - accuracy: 0.9212 - val_loss: 0.6012 - val_accuracy: 0.6850\n",
            "Epoch 12/20\n",
            "25/25 [==============================] - 0s 6ms/step - loss: 0.3010 - accuracy: 0.9388 - val_loss: 0.5943 - val_accuracy: 0.7000\n",
            "Epoch 13/20\n",
            "25/25 [==============================] - 0s 5ms/step - loss: 0.2771 - accuracy: 0.9463 - val_loss: 0.5888 - val_accuracy: 0.7100\n",
            "Epoch 14/20\n",
            "25/25 [==============================] - 0s 5ms/step - loss: 0.2556 - accuracy: 0.9538 - val_loss: 0.5838 - val_accuracy: 0.7150\n",
            "Epoch 15/20\n",
            "25/25 [==============================] - 0s 11ms/step - loss: 0.2351 - accuracy: 0.9638 - val_loss: 0.5792 - val_accuracy: 0.7200\n",
            "Epoch 16/20\n",
            "25/25 [==============================] - 0s 10ms/step - loss: 0.2161 - accuracy: 0.9675 - val_loss: 0.5741 - val_accuracy: 0.7200\n",
            "Epoch 17/20\n",
            "25/25 [==============================] - 0s 11ms/step - loss: 0.1982 - accuracy: 0.9688 - val_loss: 0.5710 - val_accuracy: 0.7150\n",
            "Epoch 18/20\n",
            "25/25 [==============================] - 0s 17ms/step - loss: 0.1819 - accuracy: 0.9700 - val_loss: 0.5674 - val_accuracy: 0.7250\n",
            "Epoch 19/20\n",
            "25/25 [==============================] - 0s 10ms/step - loss: 0.1673 - accuracy: 0.9750 - val_loss: 0.5652 - val_accuracy: 0.7350\n",
            "Epoch 20/20\n",
            "25/25 [==============================] - 0s 14ms/step - loss: 0.1536 - accuracy: 0.9787 - val_loss: 0.5642 - val_accuracy: 0.7400\n",
            "7/7 [==============================] - 0s 4ms/step - loss: 0.5642 - accuracy: 0.7400\n"
          ]
        }
      ],
      "source": [
        "# MODELO3. EMBEDDINGS PREENTRENADOS SIN CONGELAR\n",
        "\n",
        "from keras.models import Sequential\n",
        "from keras.layers import Embedding, Flatten, Dense\n",
        "\n",
        "model3 = Sequential()\n",
        "model3.add(Embedding(max_words, embedding_dim, input_length=max_comment_length))\n",
        "model3.add(Flatten())\n",
        "model3.add(Dense(1, activation='sigmoid'))\n",
        "model3.summary()\n",
        "\n",
        "model3.layers[0].set_weights([embedding_matrix])\n",
        "model3.layers[0].trainable = True\n",
        "\n",
        "model3.compile(optimizer='adam',\n",
        "              loss='binary_crossentropy',\n",
        "              metrics=['accuracy'])\n",
        "history = model3.fit(x_train, y_train,\n",
        "                    epochs=20,\n",
        "                    batch_size=32,\n",
        "                    validation_data=(x_test, y_test))\n",
        "\n",
        "score3 = model3.evaluate(x_test, y_test)"
      ]
    },
    {
      "cell_type": "markdown",
      "metadata": {
        "id": "jvppc0cR5HXu"
      },
      "source": [
        "\n",
        "We obtain 75% accuracy with the pre-trained model not freezed. In this case, it's the best configuration to our classification problem.\n"
      ]
    },
    {
      "cell_type": "markdown",
      "metadata": {
        "id": "ycQc3CyjFNxI"
      },
      "source": [
        "# Resumen de resultados"
      ]
    },
    {
      "cell_type": "code",
      "execution_count": null,
      "metadata": {
        "colab": {
          "base_uri": "https://localhost:8080/"
        },
        "id": "PG05YT6hssVI",
        "outputId": "d25ab5c8-10b4-4b43-bac5-1d121bd18f2b"
      },
      "outputs": [
        {
          "name": "stdout",
          "output_type": "stream",
          "text": [
            "Sin word embeddings pre-entrenados\n",
            "Accuracy: 70.00%\n",
            "Con word embeddings pre-entrenados congelados\n",
            "Accuracy: 71.00%\n",
            "Con word embeddings pre-entrenados sin congelar\n",
            "Accuracy: 74.00%\n"
          ]
        }
      ],
      "source": [
        "print(\"Sin word embeddings pre-entrenados\")\n",
        "print(\"Accuracy: %.2f%%\" % (score1[1]*100))\n",
        "print(\"Con word embeddings pre-entrenados congelados\")\n",
        "print(\"Accuracy: %.2f%%\" % (score2[1]*100))\n",
        "print(\"Con word embeddings pre-entrenados sin congelar\")\n",
        "print(\"Accuracy: %.2f%%\" % (score3[1]*100))"
      ]
    }
  ],
  "metadata": {
    "colab": {
      "provenance": []
    },
    "kernelspec": {
      "display_name": "Python 3",
      "language": "python",
      "name": "python3"
    },
    "language_info": {
      "codemirror_mode": {
        "name": "ipython",
        "version": 3
      },
      "file_extension": ".py",
      "mimetype": "text/x-python",
      "name": "python",
      "nbconvert_exporter": "python",
      "pygments_lexer": "ipython3",
      "version": "3.10.9"
    }
  },
  "nbformat": 4,
  "nbformat_minor": 0
}
